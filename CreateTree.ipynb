{
  "nbformat": 4,
  "nbformat_minor": 0,
  "metadata": {
    "colab": {
      "provenance": []
    },
    "kernelspec": {
      "name": "python3",
      "display_name": "Python 3"
    },
    "language_info": {
      "name": "python"
    }
  },
  "cells": [
    {
      "cell_type": "code",
      "execution_count": 2,
      "metadata": {
        "id": "11Z71PPEqL9e"
      },
      "outputs": [],
      "source": [
        "class TreeNode:\n",
        "    def __init__(self, data, children = []):\n",
        "        self.data = data\n",
        "        self.children = children\n",
        "\n",
        "    def __str__(self, level=0):\n",
        "        ret = \"  \" * level + str(self.data)  + \"\\n\"\n",
        "        for child in self.children:\n",
        "            ret += child.__str__(level + 1)\n",
        "        return ret\n",
        "\n",
        "    def addChild(self, TreeNode):\n",
        "        self.children.append(TreeNode)"
      ]
    },
    {
      "cell_type": "code",
      "source": [
        "tree = TreeNode('Drinks', [])\n",
        "cold = TreeNode('Cold', [])\n",
        "hot = TreeNode('Hot', [])\n",
        "tree.addChild(cold)\n",
        "tree.addChild(hot)\n",
        "tea = TreeNode('Tea', [])\n",
        "coffee = TreeNode('Coffee', [])\n",
        "cola = TreeNode('Cola', [])\n",
        "fanta = TreeNode('Fanta', [])\n",
        "cold.addChild(cola)\n",
        "cold.addChild(fanta)\n",
        "hot.addChild(tea)\n",
        "hot.addChild(coffee)\n",
        "print(tree)"
      ],
      "metadata": {
        "colab": {
          "base_uri": "https://localhost:8080/"
        },
        "id": "pQymC59zqk5L",
        "outputId": "9292932e-9df2-4702-e6f9-5aa3f4b6c9c3"
      },
      "execution_count": 3,
      "outputs": [
        {
          "output_type": "stream",
          "name": "stdout",
          "text": [
            "Drinks\n",
            "  Cold\n",
            "    Cola\n",
            "    Fanta\n",
            "  Hot\n",
            "    Tea\n",
            "    Coffee\n",
            "\n"
          ]
        }
      ]
    }
  ]
}